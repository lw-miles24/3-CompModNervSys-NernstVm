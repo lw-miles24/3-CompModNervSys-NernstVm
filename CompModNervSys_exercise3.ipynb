{
  "cells": [
    {
      "cell_type": "markdown",
      "metadata": {
        "id": "view-in-github",
        "colab_type": "text"
      },
      "source": [
        "<a href=\"https://colab.research.google.com/github/lw-miles24/CompModNervSys-NernstVm/blob/main/CompModNervSys_exercise3.ipynb\" target=\"_parent\"><img src=\"https://colab.research.google.com/assets/colab-badge.svg\" alt=\"Open In Colab\"/></a>"
      ]
    },
    {
      "cell_type": "markdown",
      "metadata": {
        "id": "tSawaquoIBf9"
      },
      "source": [
        "# BIOL 74.03 (SP23): Computational Modeling of the Nervous System\n",
        "## Exercise 3: Calculating membrane voltage and ionic currents in cells\n",
        "\n",
        "### Exercise goals\n",
        "\n",
        "1) Calculate resistances and capacitances within cellular geometries.\n",
        "\n",
        "2) Get comfortable writing code implementing mathematical equations and handling units\n",
        "\n",
        "3) Use the Nernst equation to calculate ionic reversal potentials\n",
        "\n",
        "4) Use the Goldman equation to calcualte resting membrane potentials\n",
        "\n",
        "5) Analyze a simple RC circuit, a building block on the way to our first neuron model\n",
        "\n",
        "Work through the code below, running each cell, adding code where required, and making sure you understand the output. When you see questions with ***Q:*** preceding them, write your responses in text cells."
      ]
    },
    {
      "cell_type": "code",
      "execution_count": null,
      "metadata": {
        "colab": {
          "base_uri": "https://localhost:8080/"
        },
        "id": "VWO7brUSssu7",
        "outputId": "f2fbb0cd-72c2-41f2-f908-6354f65b03a1"
      },
      "outputs": [
        {
          "output_type": "stream",
          "name": "stdout",
          "text": [
            "Cloning into 'CompModNervSys-NernstVm'...\n",
            "remote: Enumerating objects: 22, done.\u001b[K\n",
            "remote: Counting objects: 100% (22/22), done.\u001b[K\n",
            "remote: Compressing objects: 100% (17/17), done.\u001b[K\n",
            "remote: Total 22 (delta 5), reused 22 (delta 5), pack-reused 0\u001b[K\n",
            "Receiving objects: 100% (22/22), 149.88 KiB | 21.41 MiB/s, done.\n",
            "Resolving deltas: 100% (5/5), done.\n"
          ]
        }
      ],
      "source": [
        "!git clone https://github.com/CompModNervSystem/CompModNervSys-NernstVm.git # downloads repository into our Google colab session's file system"
      ]
    },
    {
      "cell_type": "markdown",
      "metadata": {
        "id": "QUOwLpUPb7mX"
      },
      "source": [
        "# Membrane resistance and capacitance\n",
        "\n",
        "Suppose we have a spherical cell with diameter $d$ and a membrane with thickness $t$. Recall that resistance $R$ is given by $R = \\rho L/A$, where $\\rho$ is the resistivity of the medium, $L$ is the length over which current travels, and $A$ is the cross-sectional area. Write a function that computes the membrane resistance given a membrane resistivity $\\rho_{m}$, which has units $\\Omega \\cdot cm$. Use this function to compute the membrane resistance of a cell in units of $M\\Omega$ with a $10 \\; \\mu m$ diameter, membrane thickness of $3 \\; nm$ (this refers to the insulating part of the lipid bilayer), and resistivity of $5 \\; G \\Omega cm$ ($1\\cdot10^{9} \\Omega cm$) and print the output.\n",
        "\n",
        "For a refresher on converting between metric units, see the chart below:\n",
        "\n",
        "<img src=\"https://raw.githubusercontent.com/CompModNervSystem/CompModNervSys-NernstVm/main/resources/metric-prefix-scale.jpeg\" alt=\"Metric Prefix scale\" width=\"643\" height =\"288\">"
      ]
    },
    {
      "cell_type": "code",
      "execution_count": 12,
      "metadata": {
        "id": "GWn7KHN7b7mY",
        "outputId": "c3c3a1eb-28f1-4261-bde6-8fbbfde20faa",
        "colab": {
          "base_uri": "https://localhost:8080/"
        }
      },
      "outputs": [
        {
          "output_type": "stream",
          "name": "stdout",
          "text": [
            "Resistance = 1909.9 MOhms\n"
          ]
        }
      ],
      "source": [
        "import numpy as np\n",
        "\n",
        "def calcRsphericalCell(rho_m, d,t):\n",
        "  A = 3.1415 * (d/2)**2 # cross-sectional area A for given diameter d - cm^2\n",
        "  R = (rho_m * t) / A # - Ohms\n",
        "  return R / 10**6 # - MOhms\n",
        "\n",
        "rho_m = 5000000000 # resistivity - Ohm * cm\n",
        "d = 0.001 # diameter - cm\n",
        "t = 0.0000003 # thickness - cm\n",
        "\n",
        "R = calcRsphericalCell(rho_m,d,t)\n",
        "print('Resistance = {:.1f} MOhms'.format(R))"
      ]
    },
    {
      "cell_type": "markdown",
      "metadata": {
        "id": "T6wu8UOib7mY"
      },
      "source": [
        "<font color='red'>\n",
        "\n",
        "<b><i>Q1:</b></i> How would you convert this to the membrane's conductance?\n",
        "\n",
        "</font>"
      ]
    },
    {
      "cell_type": "markdown",
      "metadata": {
        "id": "zXa42JOjb7mY"
      },
      "source": [
        "Conductance is just the reciprocal of resistance."
      ]
    },
    {
      "cell_type": "markdown",
      "metadata": {
        "id": "zLOp04DRb7mY"
      },
      "source": [
        "Now, write a similar function to calculate the membrane's capacitance. Recall the equation for capacitance of parallel plates is $C = \\epsilon A/L$, where $\\epsilon$ is the dielectric constant of the medium's between the plates, $A$ is the surface area, and $L$ is the distance between the plates. Use this function to compute the membrane capacitance of the same cell in units of $pF$ with $\\epsilon = 0.3 pF/cm$ and print the output."
      ]
    },
    {
      "cell_type": "code",
      "execution_count": 13,
      "metadata": {
        "id": "ofOjqV46b7mZ",
        "outputId": "c0e52837-bc83-47d4-d003-560719128823",
        "colab": {
          "base_uri": "https://localhost:8080/"
        }
      },
      "outputs": [
        {
          "output_type": "stream",
          "name": "stdout",
          "text": [
            "Capacitance = 0.785 pF\n"
          ]
        }
      ],
      "source": [
        "def calcCsphericalCell(eps_m, d,t):\n",
        "  A = 3.1415 * (d/2)**2 # cross-sectional area A for given diameter d - cm^2\n",
        "  C = (eps_m * A) / t # - F\n",
        "  return C * 10**12 # - pF\n",
        "\n",
        "eps_m = 0.3e-12 # dielectric constant - F/cm\n",
        "d = 0.001 # diameter - cm\n",
        "t = 0.0000003 # thickness - cm\n",
        "\n",
        "C = calcCsphericalCell(eps_m,d,t)\n",
        "print('Capacitance = {:.3f} pF'.format(C))"
      ]
    },
    {
      "cell_type": "markdown",
      "metadata": {
        "id": "wCAomoq_b7mZ"
      },
      "source": [
        "Since the membrane thickness is essentially constant across all excitable cells, it's often easier to refer to the *specific membrane resistance*, $R_{m}$, which is the resistance per unit area, and the *specific membrane capacitance*, $C_{m}$, which is the capacitance per unit area. $R_{m}$ is just the numerator of our resistance equation, so $\\rho_{m}t$, and $C_{m}$ is obtained by combining the $\\epsilon/t$ terms from the capacitance equation.\n",
        "\n",
        "<font color='red'>\n",
        "\n",
        "<b><i>Q2:</b></i> What values of $R_{m}$, in units of $\\Omega cm^{2}$, and $C_{m}$, in units of $\\mu F/cm^{2}$, do we get using the values given above? How does the cell's total membrane resistance $R$ and capacitance $C$ scale with the diameter and surface area of the cell?\n",
        "These are the quantities you're more likely to see reported in experimental and modeling literature and that we'll be using in our models.\n",
        "\n",
        "</font>"
      ]
    },
    {
      "cell_type": "code",
      "execution_count": 14,
      "metadata": {
        "id": "g_RTIun-b7ma",
        "outputId": "6d79a0dc-734c-462a-b550-b1d258c1914a",
        "colab": {
          "base_uri": "https://localhost:8080/"
        }
      },
      "outputs": [
        {
          "output_type": "stream",
          "name": "stdout",
          "text": [
            "Rm = 1500.0 Ohms * cm^2; Cm = 1.0 uF/cm^2\n"
          ]
        }
      ],
      "source": [
        "R_m = rho_m * t\n",
        "C_m = (eps_m / t) * 10**6\n",
        "print('Rm = '+str(R_m)+' Ohms * cm^2; Cm = '+str(C_m)+' uF/cm^2')"
      ]
    },
    {
      "cell_type": "markdown",
      "metadata": {
        "id": "5cTjlwLZb7ma"
      },
      "source": [
        "As the diameter or surface area of the cell increases, resistance decreases and capacitance increases. These relationships are linear for surface area and quadratic for diameter."
      ]
    },
    {
      "cell_type": "markdown",
      "metadata": {
        "id": "ITJ6jR5zb7ma"
      },
      "source": [
        "Now, write new functions calculating the membrane resistance and capacitance, based on your functions above that instead take as input $R_{m}$ and $C_{m}$. Check that you get the same output as above. Be careful about units!"
      ]
    },
    {
      "cell_type": "code",
      "execution_count": 11,
      "metadata": {
        "id": "TT5i8zqLb7ma",
        "outputId": "43e93c76-7de9-4f3c-c387-f297edffa2ac",
        "colab": {
          "base_uri": "https://localhost:8080/"
        }
      },
      "outputs": [
        {
          "output_type": "stream",
          "name": "stdout",
          "text": [
            "Resistance = 1909.9 MOhms\n",
            "Capacitance = 0.785 pF\n"
          ]
        }
      ],
      "source": [
        "# your new functions go here\n",
        "def calcR_mSphericalCell(R_m, d):\n",
        "  A = 3.1415 * (d/2)**2 # cross-sectional area A for given diameter d - cm^2\n",
        "  R = R_m / A # - Ohms\n",
        "  return R / 10**6 # - MOhms\n",
        "\n",
        "def calcC_mSphericalCell(C_m, d):\n",
        "  A = 3.1415 * (d/2)**2 # cross-sectional area A for given diameter d - cm^2\n",
        "  C = C_m * A # - uF\n",
        "  return C * 10**6 # - pF\n",
        "\n",
        "# Call your functions and return R and C here\n",
        "d = 0.001 # diameter - cm\n",
        "\n",
        "R = calcR_mSphericalCell(R_m,d)\n",
        "C = calcC_mSphericalCell(C_m,d)\n",
        "\n",
        "print('Resistance = {:.1f} MOhms'.format(R))\n",
        "\n",
        "print('Capacitance = {:.3f} pF'.format(C))"
      ]
    },
    {
      "cell_type": "markdown",
      "metadata": {
        "id": "pJ4lLdiUuX2q"
      },
      "source": [
        "# Calculating the Nernst potential\n",
        "\n",
        "Now let's calculate the Nernst equilibrium potential for some typical ion concentrations in mammalian neurons. Recall the Nernst equation is:\n",
        "\n",
        "$V_{m}^{eq} = RT/ZF \\ln([C]_e/[C]_i)$\n",
        "\n",
        "Where $R$ is the gas constant, $8.314 J/K \\cdot mole$, $T$ is temperature in $K$ (Kelvin), $Z$ is the ion's valence (don't forget the sign!), and $F$ is Faraday's constant, $96,485.3 C/mole$. $[C]_e$ and $[C]_i$ are the extracellular and intracellular concentrations.\n",
        "\n",
        "\n",
        "<font color='red'>\n",
        "\n",
        "<b><i>Q3</b></i>: Do the units matter for concentration in this equation?\n",
        "\n",
        "</font>"
      ]
    },
    {
      "cell_type": "markdown",
      "metadata": {
        "id": "KX1_jj4xb7mb"
      },
      "source": [
        "No - since we're diving one concentration by another, the units cancel. The ratio is what matters."
      ]
    },
    {
      "cell_type": "markdown",
      "metadata": {
        "id": "Z_eeJtbWb7mb"
      },
      "source": [
        "| Ion            | Intracellular [mM] | Extracellular [mM] |\n",
        "| -------------- | ------------------ | ------------------ |\n",
        "| Potassium (K+) | 140 | 5 |\n",
        "| Sodium (Na+) | 15 | 145 |\n",
        "| Chloride (Cl-) | 5 | 110 |\n",
        "\n",
        "\n",
        "Write a single function that outputs the Nernst potential for a given ion. Then, using your function and the concentrations above, print the Nernst potentials (in $mV$) for potassium, sodium, and chloride for a neuron at body temperature ($37^{\\circ} C$). Just use 1 decimal place for outputting these values."
      ]
    },
    {
      "cell_type": "code",
      "execution_count": 39,
      "metadata": {
        "id": "0jV_X5kOb7mb",
        "outputId": "6d6a8112-dc7d-4043-f291-2f8145d98daf",
        "colab": {
          "base_uri": "https://localhost:8080/"
        }
      },
      "outputs": [
        {
          "output_type": "stream",
          "name": "stdout",
          "text": [
            "Ek = -89.1 mV, Ena = 60.6 mV, Ecl = -82.6 mV\n"
          ]
        }
      ],
      "source": [
        "def calcNernstIon(C_i,C_e,Z): # input concentrations and ion valence\n",
        "  const = (R_constant * T) / F_constant # J / C, aka V\n",
        "\n",
        "  return Z * const * np.log(C_e/C_i) * 1000 # - mV\n",
        "\n",
        "R_constant = 8.314 # J/(K * mol)\n",
        "F_constant = 96485.3 # C/mol\n",
        "T = 37 + 273.15 # K\n",
        "\n",
        "Ek = calcNernstIon(140,5,1)\n",
        "Ena = calcNernstIon(15,145,1)\n",
        "Ecl = calcNernstIon(5,110,-1)\n",
        "\n",
        "print('Ek = {:.1f} mV, Ena = {:.1f} mV, Ecl = {:.1f} mV'.format(Ek,Ena,Ecl))"
      ]
    },
    {
      "cell_type": "markdown",
      "metadata": {
        "id": "4rDJ_osab7mb"
      },
      "source": [
        "This gives us the reversal potential for individual ions, but we know from the Goldman equation that the actual rest potential is a function of the ion concentrations *and* their permeabilities in the membrane. The Goldman equation is given by:\n",
        "\n",
        "$V_{m}^{eq} = \\frac{RT}{F}\\ln \\left( \\frac{P_{K}[K]e + P_{Na}[Na]e + P_{Cl}[Cl]i}{P_{K}[K]i + P_{Na}[Na]i + P_{Cl}[Cl]e} \\right)$\n",
        "\n",
        "Write a function that uses the Goldman equation to compute the resting potential given a set of K, Na, and Cl- permeabilities and concentrations. Use it to calculate the resting potential given relative resting permeabilities $P_{K}:P_{Na}:P_{Cl}$ of $1:0.05:0.45$ at body temperature and print the output in $mV$."
      ]
    },
    {
      "cell_type": "code",
      "execution_count": 99,
      "metadata": {
        "id": "o4jcPTVhb7mb",
        "outputId": "c4cf1ded-4dcb-4640-9f81-a209a6fa0cc0",
        "colab": {
          "base_uri": "https://localhost:8080/"
        }
      },
      "outputs": [
        {
          "output_type": "stream",
          "name": "stdout",
          "text": [
            "Resting Vm = -68.8 mV\n",
            "140.92225753374626\n"
          ]
        }
      ],
      "source": [
        "def calcVmGoldman(conc_i, conc_e, perm, valences): # input arrays of concentrations, permeability ratios, and valences\n",
        "  const = (R_constant * T) / F_constant # J / C, aka V\n",
        "  for i in np.arange(0,len(valences),1):\n",
        "    if valences[i] < 0:\n",
        "      a = conc_i[i]\n",
        "      conc_i[i] = conc_e[i]\n",
        "      conc_e[i] = a\n",
        "  return const * np.log(np.sum(perm * conc_e)/np.sum(perm * conc_i)) * 1000 # - mV\n",
        "\n",
        "conc_i = np.array([140,15,5])\n",
        "conc_e = np.array([5,145,110])\n",
        "permeabilities = np.array([1,0.05,0.45])\n",
        "valences = np.array([1,1,-1]) # this is probably overkill, but I wanted to keep arrays neat re: internal vs. external\n",
        "\n",
        "Vm = calcVmGoldman(conc_i,conc_e,permeabilities,valences)\n",
        "\n",
        "print('Resting Vm = {:.1f} mV'.format(Vm))"
      ]
    },
    {
      "cell_type": "markdown",
      "metadata": {
        "id": "PIZoJRQOb7mb"
      },
      "source": [
        "Now, suppose we were doing an experiment where we had some neurons in a dish and can control the concentration of ions in the extracellular solution. When mimicking the normal extracellular environment of neurons, this solution is sometimes called artificial cerebrospinal fluid (aCSF). It also includes other important things like buffers and energy sources (glucose) so our neurons are happy outside of the brain where they usually belong, but for our purposes, the ions are what matters.\n",
        "\n",
        "We want to see how resting membrane potential varies with extracellular potassium concentration, which we control in the aCSF. We can measure the intracellular voltage of the cell with a special electrode made out of a glass micropipette pulled to a fine tip less than 1 $\\mu m$ in diameter containing an electrolyte solution mimicking the cytosol and a wire that connects to a fancy voltmeter that amplifies small voltage or current signals. We'll talk more about this technique, called patch clamp electrophysiology, in class.\n",
        "\n",
        "Assuming your function worked, you can tell that the resting membrane potential is closest to the Nernst potential for potassium ($E_{k}$). If we did an experiment varying the extracellular potassium concentration and measuring resting membrane potential, what would we see? Use `matplotlib` (or your preferred plotting package) to plot the resting membrane potential vs. extracellular potassium concentration. Assume all the other intracellular and extracellular concentrations are the same as before and we heated up our neurons to body temperature. Use a log-scale on the x-axis. (Hint: your output should look like Figure 2.7 from Ch.2 of Purves, Neuroscience, the assigned reading)."
      ]
    },
    {
      "cell_type": "code",
      "execution_count": 100,
      "metadata": {
        "id": "kYtz9I0Gb7mb",
        "outputId": "d979140b-66f8-47ba-8f16-b5301e7c3dce",
        "colab": {
          "base_uri": "https://localhost:8080/",
          "height": 477
        }
      },
      "outputs": [
        {
          "output_type": "execute_result",
          "data": {
            "text/plain": [
              "(-80.0, 10.0)"
            ]
          },
          "metadata": {},
          "execution_count": 100
        },
        {
          "output_type": "display_data",
          "data": {
            "text/plain": [
              "<Figure size 640x480 with 1 Axes>"
            ],
            "image/png": "[encoded data removed]"
          },
          "metadata": {}
        }
      ],
      "source": [
        "import matplotlib.pyplot as plt\n",
        "\n",
        "Ce_k_vec = np.logspace(0,2.7,100) # vector of concentrations (1 to ~500, in mM, 100 steps)\n",
        "\n",
        "def calcVm_KvecGoldman(C_vec): # input Ce_k vec, treat all else as constant\n",
        "  const = (R_constant * T) / F_constant # J / C, aka V\n",
        "  conc_denominator = np.array([0.0,15.0,110.0])\n",
        "  conc_numerator = np.array([5.0,145.0,5.0])\n",
        "  perm = np.array([1,0.05,0.45])\n",
        "\n",
        "  Vm_vec = np.empty(C_vec.shape[0])\n",
        "\n",
        "  for i in np.arange(0,len(C_vec),1):\n",
        "    conc_denominator[0] = C_vec[i]\n",
        "    Vm_vec[i] = const * np.log(np.sum(perm * conc_numerator)/np.sum(perm * conc_denominator)) * 1000 # - mV\n",
        "\n",
        "  return Vm_vec\n",
        "\n",
        "Vm_vec = calcVm_KvecGoldman(Ce_k_vec) # your code goes here  # vector of resting membrane potentials (mV)\n",
        "\n",
        "fig = plt.figure()\n",
        "ax = fig.add_subplot(111)\n",
        "ax.plot(Ce_k_vec,Vm_vec)\n",
        "\n",
        "ax.grid(visible=True)\n",
        "ax.set_xscale('log')\n",
        "ax.set_xlabel('[K+]e (mM)')\n",
        "ax.set_ylabel('Vr (mV)')\n",
        "ax.set_xlim([2, 500])\n",
        "ax.set_ylim([-80,10])"
      ]
    },
    {
      "cell_type": "markdown",
      "metadata": {
        "id": "adi9UDPfb7mc"
      },
      "source": [
        "Let's say we wanted to do an experiment where we raised the resting membrane potential by $10 mV$ from the value you calculated earlier. What concentration of K+ should we use in the extracellular solution?\n",
        "\n",
        "You could do some math to work this out, or if you're lazy (like me), write some code to work it out for you. One way would be to just plug in a vector of finely sampled $[K+]_{e}$ (guesses) to the Goldman equation function you wrote and extract the resting membrane potential closest to our desired potential. Write a function below that does this using either this method or a method of your choosing. If you get stuck here, you can just use the \"guess and check\" method with your function and move on.\n"
      ]
    },
    {
      "cell_type": "code",
      "execution_count": null,
      "metadata": {
        "id": "JQeo9NGzb7mc"
      },
      "outputs": [],
      "source": []
    },
    {
      "cell_type": "markdown",
      "metadata": {
        "id": "3Ft3Wbhkb7mc"
      },
      "source": [
        "# First look at the RC circuit model\n",
        "\n",
        "Let's start playing with the most basic circuit model of a cell membrane, an RC circuit, shown below. In this case, we're modeling the membrane conductance as *passive*, i.e., ignoring the presence of nonlinear voltage gated ion channels. This turns out to be a decent model of neuronal membranes at voltages near equilibrium, since the nonlinear currents are still small. The circuit is composed of the membrane capacitance $C_{m}$ in parallel with a resistor $R$ representing an ionic conductance ($g=1/R$) with a reversal potential $E_{rev}$. This is sometimes referred to as the *leak* conductance and is simply the total conductance of the membrane's ion channels at rest lumped together and treated as passive (non-voltage dependent). Since we only have a single leak conductance, this is equivalent to the membrane resistance, $R_{m}$, which we'll use in the model equations below.\n",
        "\n",
        "\n",
        "<img src=\"https://raw.githubusercontent.com/CompModNervSystem/CompModNervSys-NernstVm/main/resources/RC_circuit.png\" alt=\"RC circuit schematic\" width=\"381\" height =\"254\">"
      ]
    },
    {
      "cell_type": "markdown",
      "metadata": {
        "id": "bbmTuERHb7mc"
      },
      "source": [
        "There's only one path for current to flow, so we know the capacitive current is always equal and opposite to the ionic current:\n",
        "\n",
        "$I_{C}(t) = -I_{ion}(t)$.\n",
        "\n",
        "Recall, the equation for current in a capacitor is $I_{C} = CdV/dt$ and the equation for current through an ion channel with a reversal potential is just the modified version of Ohm's law we introduced in class, $I_{ion} = (1/R)(V_{m} - E_{rev})$. Putting these together we have:\n",
        "\n",
        "$C_{m}\\frac{dV_{m}(t)}{dt} = -(V_{m}(t) - E_{rev})/R_{m}$.\n",
        "\n",
        "This is just a first order ordinary differential equation, which you may have seen before. I won't go through the derivation here, but here's the solution for $V_{m}$:\n",
        "\n",
        "$V_{m}(t) = (V_{0}-E_{rev})e^{-t/R_{m}C_{m}} + E_{rev}$,\n",
        "\n",
        "where $V_{0}$ is $V_{m}$ at $t=0$."
      ]
    },
    {
      "cell_type": "markdown",
      "metadata": {
        "id": "xrKvSnAWb7mc"
      },
      "source": [
        "<font color='red'>\n",
        "\n",
        "<b><i>Q4:</b></i> First, what is $V_{m}$ at equilibrium ($t \\rightarrow \\infty$) and why?\n",
        "\n",
        "</font>"
      ]
    },
    {
      "cell_type": "markdown",
      "metadata": {
        "id": "sLxwu2xGb7mc"
      },
      "source": []
    },
    {
      "cell_type": "markdown",
      "metadata": {
        "id": "-GiQuzjAb7mc"
      },
      "source": [
        "Now, let's use this model to simulate a simplified version of the experiment we conducted above where we wanted to increase the resting membrane potential by $10 mV$. Imagine we started with a reversal potential, in this case of our nonspecific leak conductance $E_{rev}$, of $-70 mV$, and we had a way of instantaneously changing the ion concentrations in the bath to generate our new reversal potential, $-60 mV$.\n",
        "\n",
        "Use the equation above and `numpy`/`matplotlib` to plot the voltage in $mV$ vs. time in $ms$. Use the $R$ and $C$ values we calculated at the beginning for a spherical cell for $R_{m}$ and $C_{m}$. Be careful about units!"
      ]
    },
    {
      "cell_type": "code",
      "execution_count": null,
      "metadata": {
        "id": "XRltSJe8b7mc"
      },
      "outputs": [],
      "source": [
        "t = np.linspace(# your code goes here) # time in seconds\n",
        "Vm = # your code goes here # membrane voltage in mV\n",
        "\n",
        "fig = plt.figure()\n",
        "ax = fig.add_subplot(111)\n",
        "ax.plot(t*1e3,Vm)\n",
        "ax.set_xlabel('time (ms)')\n",
        "ax.set_ylabel('Vm (mV)')\n",
        "ax.grid(visible=True)"
      ]
    },
    {
      "cell_type": "markdown",
      "metadata": {
        "id": "uhGw8QUtb7mc"
      },
      "source": [
        "As you may know from a differential equations course, the product $RC$ in this equation is also known as the time constant $\\tau$. In our case, this is known as the *membrane time constant* and is given the special symbol $\\tau_{m}$. It has units of time ($\\Omega \\cdot F = sec$, or $k\\Omega \\cdot \\mu F = ms$). From inspecting the equation or your plot, you can see it's the time at which the voltage reaches 63.2% ($1-1/e$) of it's steady state value (or increases by 36.8%). In general, the time constant is a measure of how fast the membrane voltage can change in response to a stimulus (shorter times being faster). In our artificial situation, this was an instant change in bath concentrations, but later, this will be currents generated by synaptic inputs or electrical stimulation we apply.\n",
        "\n",
        "Below, try overlaying plots of the same manipulation if the time constant was doubled or halved."
      ]
    },
    {
      "cell_type": "code",
      "execution_count": null,
      "metadata": {
        "id": "SGCxLrQzb7md"
      },
      "outputs": [],
      "source": [
        "# Your code goes here\n",
        "tau1 =\n",
        "tau2 =\n",
        "tau3 =\n",
        "Vm1 =\n",
        "Vm2 =\n",
        "Vm3 =\n",
        "fig = plt.figure()\n",
        "ax = fig.add_subplot(111)\n",
        "ax.plot(t*1e3,Vm1,label='tau = {:.1f} ms'.format(tau1*1e3))\n",
        "ax.plot(t*1e3,Vm2,label='tau = {:.1f} ms'.format(tau2*1e3))\n",
        "ax.plot(t*1e3,Vm3,label='tau = {:.1f} ms'.format(tau3*1e3))\n",
        "ax.set_xlabel('time (ms)')\n",
        "ax.set_ylabel('Vm (mV)')\n",
        "ax.grid(visible=True)\n",
        "ax.legend()"
      ]
    },
    {
      "cell_type": "markdown",
      "metadata": {
        "id": "aITnUcR7b7md"
      },
      "source": [
        "<font color='red'>\n",
        "\n",
        "<b><i>Q5:</b></i> What physical variable could actually be changing to mediate this change in membrane time constant?\n",
        "\n",
        "</font>"
      ]
    },
    {
      "cell_type": "markdown",
      "metadata": {
        "id": "dw58r6jpb7md"
      },
      "source": []
    },
    {
      "cell_type": "markdown",
      "metadata": {
        "id": "1ivEjZJAb7md"
      },
      "source": [
        "Let's also take a look at the capacitive and ionic currents underlying the changes in $V_{m}$ for the first case we simulated. Plot the capacitive and ionic current as current densities in units of $pA/\\mu m2$ by dividing each current by the total membrane surface area ($A = 4\\pi(d/2)^2$, still using $d = 10 \\; \\mu m$).\n",
        "\n",
        "Since the capacitive current is given by $C_{m} dV_{m}/dt$, you could calculate the capacitive current numerically by taking the numerical *difference* of the voltage traces, but in this case, we can calculate the capacitive current analytically:\n",
        "\n",
        "$I_{C}(t) = C_{m}dV_{m}/dt = C_{m}\\frac{d}{dt}\\left((V_{0}-E_{rev})\\exp^{-t/R_{m}C_{m}} + E_{rev}\\right)$\n",
        "\n",
        "$I_{C}(t) = -\\frac{V_{0} - E_{rev}}{R_{m}}\\exp^{-t/R_{m}C_{m}}$"
      ]
    },
    {
      "cell_type": "code",
      "execution_count": null,
      "metadata": {
        "id": "fO7kzCo0b7md"
      },
      "outputs": [],
      "source": [
        "# Your code goes here"
      ]
    },
    {
      "cell_type": "markdown",
      "metadata": {
        "id": "TiXzwYGsb7md"
      },
      "source": [
        "\n",
        "Finally, let's test a pretty major assumption we made when deciding to represent the Nernst potential as a fixed voltage source (battery). I mentioned in lecture that the ionic fluxes required to reach equilibrium, and more generally, that occur in the normal course of neural signaling don't significantly affect the bulk concentration of ions in the cell. Suppose we accomplished the $10 mV$ change by increasing the extracellular potassium concentration."
      ]
    },
    {
      "cell_type": "markdown",
      "metadata": {
        "id": "T_X0GBTrb7md"
      },
      "source": [
        "<font color='red'>\n",
        "\n",
        "<b><i>Q6:</b></i> First, in your own words, explain the sequence of events leading from the initial condition ($V_{m} = -70 mV$) to the final steady state condition ($V_{m} = -60 mV$).\n",
        "\n",
        "</font>"
      ]
    },
    {
      "cell_type": "markdown",
      "metadata": {
        "id": "bU0YGig0b7md"
      },
      "source": []
    },
    {
      "cell_type": "markdown",
      "metadata": {
        "id": "2DcZeuyKb7md"
      },
      "source": [
        "\n",
        "The excess charge from the movement of positive ions (let's use K+ for simplicity) is $Q=\\Delta V_{m}C_{m}$. We can convert this from electrical charge in Coulombs to the amount of ion particles in moles $N$ using Faraday's constant, $N = Q/F$. Fill in the empty portions of the calculations below."
      ]
    },
    {
      "cell_type": "code",
      "execution_count": null,
      "metadata": {
        "id": "2yrgrSeJb7md"
      },
      "outputs": [],
      "source": [
        "deltaVm = # V - change in membrane voltage\n",
        "Q = deltaVm*C # C - charge built up on membrane\n",
        "F = 96485.3 # C/mol - faraday's constant\n",
        "N = Q/F # number of charges moved\n",
        "d = 10e-6 # m\n",
        "Vol = (4/3)*np.pi*(d/2)**3 # m^3\n",
        "Vol = Vol*1e3 # convert to L (1000 L per cubic meter)\n",
        "Cki = 140e-3 # M - mols/liter - initial concentration\n",
        "Ntot = Cki*V # mols K - initial\n",
        "Cki2 =  # M - mols/liter - final concentration\n",
        "\n",
        "print('The intracellular concentration changed from {} mM to {} mM, {:f} %% change'.format(Cki*1e3,Cki2*1e3,100*(Cki2-Cki)/Cki))\n"
      ]
    },
    {
      "cell_type": "markdown",
      "metadata": {
        "id": "H7VpSGO3b7me"
      },
      "source": [
        "<font color='red'>\n",
        "\n",
        "<b><i>Q7:</b></i>\n",
        "Is our assumption that ionic concentrations aren't affected by the ionic currents okay and why? Under what conditions is it a better or worse assumption,\n",
        "or in other words, can you think of scenarios where it would be more or less safe?\n",
        "\n",
        "</font>"
      ]
    },
    {
      "cell_type": "markdown",
      "metadata": {
        "id": "gAKNGjMAb7me"
      },
      "source": []
    }
  ],
  "metadata": {
    "colab": {
      "provenance": [],
      "include_colab_link": true
    },
    "kernelspec": {
      "display_name": "Python 3",
      "name": "python3"
    },
    "language_info": {
      "codemirror_mode": {
        "name": "ipython",
        "version": 3
      },
      "file_extension": ".py",
      "mimetype": "text/x-python",
      "name": "python",
      "nbconvert_exporter": "python",
      "pygments_lexer": "ipython3",
      "version": "3.9.16"
    }
  },
  "nbformat": 4,
  "nbformat_minor": 0
}